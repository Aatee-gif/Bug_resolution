{
 "cells": [
  {
   "cell_type": "markdown",
   "id": "bc0ad40c",
   "metadata": {},
   "source": [
    "# This model predicts bug resolution--fixed or not fixed"
   ]
  },
  {
   "cell_type": "code",
   "execution_count": 53,
   "id": "46887292",
   "metadata": {},
   "outputs": [],
   "source": [
    "#load the dataset\n",
    "import pandas as pd\n",
    "code_bugs_df = pd.read_csv('Code_bugs.csv')"
   ]
  },
  {
   "cell_type": "code",
   "execution_count": 54,
   "id": "7307181f",
   "metadata": {},
   "outputs": [
    {
     "name": "stdout",
     "output_type": "stream",
     "text": [
      "<class 'pandas.core.frame.DataFrame'>\n",
      "RangeIndex: 1000 entries, 0 to 999\n",
      "Data columns (total 12 columns):\n",
      " #   Column      Non-Null Count  Dtype \n",
      "---  ------      --------------  ----- \n",
      " 0   Issue Type  1000 non-null   object\n",
      " 1   Issue key   1000 non-null   object\n",
      " 2   Issue id    1000 non-null   int64 \n",
      " 3   Summary     1000 non-null   object\n",
      " 4   Assignee    594 non-null    object\n",
      " 5   Reporter    1000 non-null   object\n",
      " 6   Priority    1000 non-null   object\n",
      " 7   Status      1000 non-null   object\n",
      " 8   Resolution  657 non-null    object\n",
      " 9   Created     1000 non-null   object\n",
      " 10  Updated     1000 non-null   object\n",
      " 11  Due Date    5 non-null      object\n",
      "dtypes: int64(1), object(11)\n",
      "memory usage: 93.9+ KB\n"
     ]
    },
    {
     "data": {
      "text/html": [
       "<div>\n",
       "<style scoped>\n",
       "    .dataframe tbody tr th:only-of-type {\n",
       "        vertical-align: middle;\n",
       "    }\n",
       "\n",
       "    .dataframe tbody tr th {\n",
       "        vertical-align: top;\n",
       "    }\n",
       "\n",
       "    .dataframe thead th {\n",
       "        text-align: right;\n",
       "    }\n",
       "</style>\n",
       "<table border=\"1\" class=\"dataframe\">\n",
       "  <thead>\n",
       "    <tr style=\"text-align: right;\">\n",
       "      <th></th>\n",
       "      <th>Issue Type</th>\n",
       "      <th>Issue key</th>\n",
       "      <th>Issue id</th>\n",
       "      <th>Summary</th>\n",
       "      <th>Assignee</th>\n",
       "      <th>Reporter</th>\n",
       "      <th>Priority</th>\n",
       "      <th>Status</th>\n",
       "      <th>Resolution</th>\n",
       "      <th>Created</th>\n",
       "      <th>Updated</th>\n",
       "      <th>Due Date</th>\n",
       "    </tr>\n",
       "  </thead>\n",
       "  <tbody>\n",
       "    <tr>\n",
       "      <th>0</th>\n",
       "      <td>Bug</td>\n",
       "      <td>SPARK-51910</td>\n",
       "      <td>13616321</td>\n",
       "      <td>Optimize CodeGenerator#updateAndGetCompilation...</td>\n",
       "      <td>NaN</td>\n",
       "      <td>xleesf</td>\n",
       "      <td>Major</td>\n",
       "      <td>Closed</td>\n",
       "      <td>Invalid</td>\n",
       "      <td>25/Apr/25 1:54</td>\n",
       "      <td>25/Apr/25 2:16</td>\n",
       "      <td>NaN</td>\n",
       "    </tr>\n",
       "    <tr>\n",
       "      <th>1</th>\n",
       "      <td>Bug</td>\n",
       "      <td>SPARK-51360</td>\n",
       "      <td>13610235</td>\n",
       "      <td>Spark counts the total no of records twice in ...</td>\n",
       "      <td>NaN</td>\n",
       "      <td>Hande</td>\n",
       "      <td>Critical</td>\n",
       "      <td>Closed</td>\n",
       "      <td>Workaround</td>\n",
       "      <td>01/Mar/25 8:01</td>\n",
       "      <td>03/Mar/25 14:08</td>\n",
       "      <td>NaN</td>\n",
       "    </tr>\n",
       "    <tr>\n",
       "      <th>2</th>\n",
       "      <td>Bug</td>\n",
       "      <td>SPARK-50816</td>\n",
       "      <td>13604934</td>\n",
       "      <td>3.5.4 Spark Apache release is not verifiable</td>\n",
       "      <td>dongjoon</td>\n",
       "      <td>vrozov</td>\n",
       "      <td>Blocker</td>\n",
       "      <td>Closed</td>\n",
       "      <td>Fixed</td>\n",
       "      <td>14/Jan/25 21:59</td>\n",
       "      <td>15/Jan/25 20:01</td>\n",
       "      <td>NaN</td>\n",
       "    </tr>\n",
       "    <tr>\n",
       "      <th>3</th>\n",
       "      <td>Bug</td>\n",
       "      <td>SPARK-50475</td>\n",
       "      <td>13600688</td>\n",
       "      <td>NullPointerException when saving a df with 'no...</td>\n",
       "      <td>NaN</td>\n",
       "      <td>cedriccuypers</td>\n",
       "      <td>Trivial</td>\n",
       "      <td>Closed</td>\n",
       "      <td>Not A Bug</td>\n",
       "      <td>03/Dec/24 8:31</td>\n",
       "      <td>19/Dec/24 7:51</td>\n",
       "      <td>NaN</td>\n",
       "    </tr>\n",
       "    <tr>\n",
       "      <th>4</th>\n",
       "      <td>Bug</td>\n",
       "      <td>SPARK-50420</td>\n",
       "      <td>13599989</td>\n",
       "      <td>Executor memory config is incorrect when multi...</td>\n",
       "      <td>NaN</td>\n",
       "      <td>Terry1897</td>\n",
       "      <td>Major</td>\n",
       "      <td>Closed</td>\n",
       "      <td>Duplicate</td>\n",
       "      <td>26/Nov/24 3:32</td>\n",
       "      <td>27/Nov/24 2:57</td>\n",
       "      <td>NaN</td>\n",
       "    </tr>\n",
       "    <tr>\n",
       "      <th>5</th>\n",
       "      <td>Bug</td>\n",
       "      <td>SPARK-50419</td>\n",
       "      <td>13599988</td>\n",
       "      <td>Executor memory config is incorrect when multi...</td>\n",
       "      <td>NaN</td>\n",
       "      <td>Terry1897</td>\n",
       "      <td>Major</td>\n",
       "      <td>Closed</td>\n",
       "      <td>Duplicate</td>\n",
       "      <td>26/Nov/24 3:31</td>\n",
       "      <td>27/Nov/24 2:57</td>\n",
       "      <td>NaN</td>\n",
       "    </tr>\n",
       "    <tr>\n",
       "      <th>6</th>\n",
       "      <td>Bug</td>\n",
       "      <td>SPARK-49465</td>\n",
       "      <td>13590502</td>\n",
       "      <td>Fix example props override in helm chart opera...</td>\n",
       "      <td>NaN</td>\n",
       "      <td>zhou_jiang</td>\n",
       "      <td>Major</td>\n",
       "      <td>Closed</td>\n",
       "      <td>Duplicate</td>\n",
       "      <td>29/Aug/24 23:14</td>\n",
       "      <td>31/Aug/24 18:51</td>\n",
       "      <td>NaN</td>\n",
       "    </tr>\n",
       "    <tr>\n",
       "      <th>7</th>\n",
       "      <td>Bug</td>\n",
       "      <td>SPARK-49453</td>\n",
       "      <td>13590393</td>\n",
       "      <td>spark-kubernetes-operator-dynamic-configuratio...</td>\n",
       "      <td>NaN</td>\n",
       "      <td>qitan</td>\n",
       "      <td>Trivial</td>\n",
       "      <td>Closed</td>\n",
       "      <td>Duplicate</td>\n",
       "      <td>29/Aug/24 3:53</td>\n",
       "      <td>31/Aug/24 18:49</td>\n",
       "      <td>NaN</td>\n",
       "    </tr>\n",
       "    <tr>\n",
       "      <th>8</th>\n",
       "      <td>Bug</td>\n",
       "      <td>SPARK-49055</td>\n",
       "      <td>13587272</td>\n",
       "      <td>Investigate OrcEncryptionSuite UnsatisfiedLink...</td>\n",
       "      <td>NaN</td>\n",
       "      <td>LuciferYang</td>\n",
       "      <td>Major</td>\n",
       "      <td>Closed</td>\n",
       "      <td>Not A Problem</td>\n",
       "      <td>30/Jul/24 4:56</td>\n",
       "      <td>30/Jul/24 5:46</td>\n",
       "      <td>NaN</td>\n",
       "    </tr>\n",
       "    <tr>\n",
       "      <th>9</th>\n",
       "      <td>Bug</td>\n",
       "      <td>SPARK-48417</td>\n",
       "      <td>13580406</td>\n",
       "      <td>Filesystems do not load with spark.jars.packag...</td>\n",
       "      <td>NaN</td>\n",
       "      <td>ravidalal</td>\n",
       "      <td>Major</td>\n",
       "      <td>Closed</td>\n",
       "      <td>Not A Problem</td>\n",
       "      <td>24/May/24 20:40</td>\n",
       "      <td>24/May/24 21:23</td>\n",
       "      <td>NaN</td>\n",
       "    </tr>\n",
       "  </tbody>\n",
       "</table>\n",
       "</div>"
      ],
      "text/plain": [
       "  Issue Type    Issue key  Issue id  \\\n",
       "0        Bug  SPARK-51910  13616321   \n",
       "1        Bug  SPARK-51360  13610235   \n",
       "2        Bug  SPARK-50816  13604934   \n",
       "3        Bug  SPARK-50475  13600688   \n",
       "4        Bug  SPARK-50420  13599989   \n",
       "5        Bug  SPARK-50419  13599988   \n",
       "6        Bug  SPARK-49465  13590502   \n",
       "7        Bug  SPARK-49453  13590393   \n",
       "8        Bug  SPARK-49055  13587272   \n",
       "9        Bug  SPARK-48417  13580406   \n",
       "\n",
       "                                             Summary  Assignee       Reporter  \\\n",
       "0  Optimize CodeGenerator#updateAndGetCompilation...       NaN         xleesf   \n",
       "1  Spark counts the total no of records twice in ...       NaN          Hande   \n",
       "2       3.5.4 Spark Apache release is not verifiable  dongjoon         vrozov   \n",
       "3  NullPointerException when saving a df with 'no...       NaN  cedriccuypers   \n",
       "4  Executor memory config is incorrect when multi...       NaN      Terry1897   \n",
       "5  Executor memory config is incorrect when multi...       NaN      Terry1897   \n",
       "6  Fix example props override in helm chart opera...       NaN     zhou_jiang   \n",
       "7  spark-kubernetes-operator-dynamic-configuratio...       NaN          qitan   \n",
       "8  Investigate OrcEncryptionSuite UnsatisfiedLink...       NaN    LuciferYang   \n",
       "9  Filesystems do not load with spark.jars.packag...       NaN      ravidalal   \n",
       "\n",
       "   Priority  Status     Resolution          Created          Updated Due Date  \n",
       "0     Major  Closed        Invalid   25/Apr/25 1:54   25/Apr/25 2:16      NaN  \n",
       "1  Critical  Closed     Workaround   01/Mar/25 8:01  03/Mar/25 14:08      NaN  \n",
       "2   Blocker  Closed          Fixed  14/Jan/25 21:59  15/Jan/25 20:01      NaN  \n",
       "3   Trivial  Closed      Not A Bug   03/Dec/24 8:31   19/Dec/24 7:51      NaN  \n",
       "4     Major  Closed      Duplicate   26/Nov/24 3:32   27/Nov/24 2:57      NaN  \n",
       "5     Major  Closed      Duplicate   26/Nov/24 3:31   27/Nov/24 2:57      NaN  \n",
       "6     Major  Closed      Duplicate  29/Aug/24 23:14  31/Aug/24 18:51      NaN  \n",
       "7   Trivial  Closed      Duplicate   29/Aug/24 3:53  31/Aug/24 18:49      NaN  \n",
       "8     Major  Closed  Not A Problem   30/Jul/24 4:56   30/Jul/24 5:46      NaN  \n",
       "9     Major  Closed  Not A Problem  24/May/24 20:40  24/May/24 21:23      NaN  "
      ]
     },
     "execution_count": 54,
     "metadata": {},
     "output_type": "execute_result"
    }
   ],
   "source": [
    "code_bugs_df.describe()\n",
    "code_bugs_df.info()\n",
    "code_bugs_df.head(10)"
   ]
  },
  {
   "cell_type": "code",
   "execution_count": 55,
   "id": "c9bca381",
   "metadata": {},
   "outputs": [
    {
     "name": "stdout",
     "output_type": "stream",
     "text": [
      "Issue Type      0\n",
      "Issue key       0\n",
      "Issue id        0\n",
      "Summary         0\n",
      "Reporter        0\n",
      "Priority        0\n",
      "Status          0\n",
      "Created         0\n",
      "Updated         0\n",
      "Resolution    343\n",
      "Assignee      406\n",
      "Due Date      995\n",
      "dtype: int64\n"
     ]
    }
   ],
   "source": [
    "print(code_bugs_df.isna().sum().sort_values())"
   ]
  },
  {
   "cell_type": "code",
   "execution_count": 56,
   "id": "48d68531",
   "metadata": {},
   "outputs": [
    {
     "name": "stdout",
     "output_type": "stream",
     "text": [
      "Resolution\n",
      "Fixed               591\n",
      "Not A Problem        16\n",
      "Duplicate            16\n",
      "Invalid              14\n",
      "Not A Bug             8\n",
      "Won't Fix             5\n",
      "Workaround            2\n",
      "Won't Do              2\n",
      "Incomplete            1\n",
      "Cannot Reproduce      1\n",
      "Resolved              1\n",
      "Name: count, dtype: int64\n",
      "Priority\n",
      "Major       817\n",
      "Minor       119\n",
      "Critical     34\n",
      "Blocker      20\n",
      "Trivial      10\n",
      "Name: count, dtype: int64\n",
      "Status\n",
      "Resolved       637\n",
      "Open           336\n",
      "Closed          20\n",
      "Reopened         5\n",
      "In Progress      2\n",
      "Name: count, dtype: int64\n"
     ]
    },
    {
     "data": {
      "image/png": "[encoded data removed]",
      "text/plain": [
       "<Figure size 640x480 with 1 Axes>"
      ]
     },
     "metadata": {},
     "output_type": "display_data"
    }
   ],
   "source": [
    "import matplotlib.pyplot as plt\n",
    "# Count how many times each resolution occurs\n",
    "print(code_bugs_df['Resolution'].value_counts())\n",
    "print(code_bugs_df['Priority'].value_counts())\n",
    "print(code_bugs_df['Status'].value_counts())\n",
    "\n",
    "\n",
    "# Bar plot to visualize\n",
    "code_bugs_df['Resolution'].value_counts().plot(kind='bar', title='Resolution Frequency')\n",
    "plt.xlabel('Resolution')\n",
    "plt.ylabel('Count')\n",
    "plt.xticks(rotation=45)\n",
    "plt.show()"
   ]
  },
  {
   "cell_type": "code",
   "execution_count": 57,
   "id": "4180fe77",
   "metadata": {},
   "outputs": [
    {
     "data": {
      "text/plain": [
       "np.int64(0)"
      ]
     },
     "execution_count": 57,
     "metadata": {},
     "output_type": "execute_result"
    }
   ],
   "source": [
    "code_bugs_df.duplicated().sum()"
   ]
  },
  {
   "cell_type": "code",
   "execution_count": 58,
   "id": "27f52c28",
   "metadata": {},
   "outputs": [
    {
     "name": "stderr",
     "output_type": "stream",
     "text": [
      "C:\\Users\\LENOVE\\AppData\\Local\\Temp\\ipykernel_30612\\3322370526.py:1: UserWarning: Could not infer format, so each element will be parsed individually, falling back to `dateutil`. To ensure parsing is consistent and as-expected, please specify a format.\n",
      "  code_bugs_df['Created'] = pd.to_datetime(code_bugs_df['Created'])\n",
      "C:\\Users\\LENOVE\\AppData\\Local\\Temp\\ipykernel_30612\\3322370526.py:2: UserWarning: Could not infer format, so each element will be parsed individually, falling back to `dateutil`. To ensure parsing is consistent and as-expected, please specify a format.\n",
      "  code_bugs_df['Updated'] = pd.to_datetime(code_bugs_df['Updated'])\n"
     ]
    },
    {
     "data": {
      "image/png": "[encoded data removed]",
      "text/plain": [
       "<Figure size 640x480 with 1 Axes>"
      ]
     },
     "metadata": {},
     "output_type": "display_data"
    }
   ],
   "source": [
    "code_bugs_df['Created'] = pd.to_datetime(code_bugs_df['Created'])\n",
    "code_bugs_df['Updated'] = pd.to_datetime(code_bugs_df['Updated'])\n",
    "\n",
    "# Time taken to update (in days)\n",
    "code_bugs_df['Time_to_Update'] = (code_bugs_df['Updated'] - code_bugs_df['Created']).dt.days\n",
    "\n",
    "code_bugs_df['Time_to_Update'].hist(bins=30)\n",
    "plt.title(\"Time to Update a Bug\")\n",
    "plt.xlabel(\"Days\")\n",
    "plt.ylabel(\"Count\")\n",
    "plt.show()"
   ]
  },
  {
   "cell_type": "code",
   "execution_count": 59,
   "id": "88ce3813",
   "metadata": {},
   "outputs": [
    {
     "data": {
      "image/png": "[encoded data removed]",
      "text/plain": [
       "<Figure size 640x480 with 1 Axes>"
      ]
     },
     "metadata": {},
     "output_type": "display_data"
    }
   ],
   "source": [
    "import seaborn as sns\n",
    "sns.countplot(data=code_bugs_df, x='Resolution', hue='Status')\n",
    "plt.title(\"Bug Priority by Status\")\n",
    "plt.xlabel(\"Priority\")\n",
    "plt.ylabel(\"Count\")\n",
    "plt.xticks(rotation=45)\n",
    "plt.show()\n"
   ]
  },
  {
   "cell_type": "code",
   "execution_count": 60,
   "id": "387f1fa9",
   "metadata": {},
   "outputs": [
    {
     "data": {
      "image/png": "[encoded data removed]",
      "text/plain": [
       "<Figure size 640x480 with 1 Axes>"
      ]
     },
     "metadata": {},
     "output_type": "display_data"
    }
   ],
   "source": [
    "sns.countplot(data=code_bugs_df, x='Priority', hue='Resolution')\n",
    "plt.title(\"Bug Resolution by Priority\")\n",
    "plt.xlabel(\"Resolution\")\n",
    "plt.ylabel(\"Count\")\n",
    "plt.xticks(rotation=45)\n",
    "plt.show()"
   ]
  },
  {
   "cell_type": "code",
   "execution_count": 61,
   "id": "2ab77580",
   "metadata": {},
   "outputs": [
    {
     "data": {
      "image/png": "[encoded data removed]",
      "text/plain": [
       "<Figure size 640x480 with 1 Axes>"
      ]
     },
     "metadata": {},
     "output_type": "display_data"
    }
   ],
   "source": [
    "sns.boxplot(data=code_bugs_df, x='Resolution', hue='Time_to_Update')\n",
    "plt.title(\"Time to Update by Resolution\")\n",
    "plt.xlabel(\"Resolution\")\n",
    "plt.ylabel(\"Count\")\n",
    "plt.xticks(rotation=45)\n",
    "plt.show()"
   ]
  },
  {
   "cell_type": "code",
   "execution_count": 62,
   "id": "0c506273",
   "metadata": {},
   "outputs": [
    {
     "data": {
      "image/png": "[encoded data removed]",
      "text/plain": [
       "<Figure size 640x480 with 2 Axes>"
      ]
     },
     "metadata": {},
     "output_type": "display_data"
    }
   ],
   "source": [
    "code_bugs_df.corr(numeric_only=True)\n",
    "sns.heatmap(code_bugs_df.corr(numeric_only=True), annot=True)\n",
    "plt.title(\"Correlation Heatmap\")\n",
    "plt.show()"
   ]
  },
  {
   "cell_type": "code",
   "execution_count": 63,
   "id": "48516ffd",
   "metadata": {},
   "outputs": [
    {
     "data": {
      "image/png": "[encoded data removed]",
      "text/plain": [
       "<Figure size 250x250 with 2 Axes>"
      ]
     },
     "metadata": {},
     "output_type": "display_data"
    }
   ],
   "source": [
    "sns.pairplot(code_bugs_df[['Time_to_Update', 'Priority', 'Resolution']])\n",
    "plt.title(\"Pairplot of Priority and Resolution with Time to Update\")\n",
    "plt.show()\n"
   ]
  },
  {
   "cell_type": "code",
   "execution_count": 64,
   "id": "2fd6aa1f",
   "metadata": {},
   "outputs": [
    {
     "name": "stdout",
     "output_type": "stream",
     "text": [
      "Columns with less than 5% : Index(['Issue Type', 'Issue key', 'Issue id', 'Summary', 'Reporter',\n",
      "       'Priority', 'Status', 'Created', 'Updated', 'Time_to_Update'],\n",
      "      dtype='object')\n"
     ]
    }
   ],
   "source": [
    "threshold = 0.05 * len(code_bugs_df)\n",
    "cols_to_drop = code_bugs_df.columns[code_bugs_df.isna().sum() <= threshold]\n",
    "print(f\"Columns with less than 5% : {cols_to_drop}\")"
   ]
  },
  {
   "cell_type": "code",
   "execution_count": 65,
   "id": "59d2f342",
   "metadata": {},
   "outputs": [],
   "source": [
    "code_bugs_df = code_bugs_df.drop(columns=[\"Due Date\",\"Issue key\",\"Issue id\",\"Summary\",\"Assignee\",\"Reporter\",\"Issue Type\",\"Created\",\"Updated\"])"
   ]
  },
  {
   "cell_type": "code",
   "execution_count": 66,
   "id": "207b8602",
   "metadata": {},
   "outputs": [
    {
     "name": "stdout",
     "output_type": "stream",
     "text": [
      "Priority            0\n",
      "Status              0\n",
      "Time_to_Update      0\n",
      "Resolution        343\n",
      "dtype: int64\n"
     ]
    }
   ],
   "source": [
    "print(code_bugs_df.isna().sum().sort_values())"
   ]
  },
  {
   "cell_type": "code",
   "execution_count": 67,
   "id": "42f68523",
   "metadata": {},
   "outputs": [],
   "source": [
    "code_bugs_df.dropna(subset=['Resolution'], inplace=True)"
   ]
  },
  {
   "cell_type": "code",
   "execution_count": 68,
   "id": "a9b06c35",
   "metadata": {},
   "outputs": [
    {
     "name": "stdout",
     "output_type": "stream",
     "text": [
      "Priority          0\n",
      "Status            0\n",
      "Resolution        0\n",
      "Time_to_Update    0\n",
      "dtype: int64\n"
     ]
    }
   ],
   "source": [
    "print(code_bugs_df.isna().sum().sort_values())"
   ]
  },
  {
   "cell_type": "code",
   "execution_count": 69,
   "id": "9cdab6f7",
   "metadata": {},
   "outputs": [],
   "source": [
    "code_bugs_df_cleaned = code_bugs_df.to_csv('Code_bugs_cleaned.csv', index=False)"
   ]
  },
  {
   "cell_type": "code",
   "execution_count": 70,
   "id": "12541df7",
   "metadata": {},
   "outputs": [],
   "source": [
    "def simplify_resolution(val):\n",
    "    if val == 'Fixed':\n",
    "        return 'Fixed'\n",
    "    else:\n",
    "        return 'Other'\n",
    "\n",
    "code_bugs_df['Resolution'] = code_bugs_df['Resolution'].apply(simplify_resolution)\n"
   ]
  },
  {
   "cell_type": "code",
   "execution_count": 71,
   "id": "2da423a8",
   "metadata": {},
   "outputs": [],
   "source": [
    "def simplify_priority(val):\n",
    "    if val in ['Blocker', 'Critical']:\n",
    "        return 'High'\n",
    "    elif val in ['Major']:\n",
    "        return 'Medium'\n",
    "    else:\n",
    "        return 'low'\n",
    "code_bugs_df['Priority'] = code_bugs_df['Priority'].apply(simplify_priority)"
   ]
  },
  {
   "cell_type": "code",
   "execution_count": 72,
   "id": "6c333ea2",
   "metadata": {},
   "outputs": [],
   "source": [
    "def simplify_Status(val):\n",
    "    if val in ['Resolved', 'Closed']:\n",
    "        return 'Resolved'\n",
    "    else:\n",
    "        return 'Open'\n",
    "code_bugs_df['Status'] = code_bugs_df['Status'].apply(simplify_Status)"
   ]
  },
  {
   "cell_type": "code",
   "execution_count": 73,
   "id": "152956e7",
   "metadata": {},
   "outputs": [
    {
     "data": {
      "text/html": [
       "<div>\n",
       "<style scoped>\n",
       "    .dataframe tbody tr th:only-of-type {\n",
       "        vertical-align: middle;\n",
       "    }\n",
       "\n",
       "    .dataframe tbody tr th {\n",
       "        vertical-align: top;\n",
       "    }\n",
       "\n",
       "    .dataframe thead th {\n",
       "        text-align: right;\n",
       "    }\n",
       "</style>\n",
       "<table border=\"1\" class=\"dataframe\">\n",
       "  <thead>\n",
       "    <tr style=\"text-align: right;\">\n",
       "      <th></th>\n",
       "      <th>Priority</th>\n",
       "      <th>Status</th>\n",
       "      <th>Resolution</th>\n",
       "      <th>Time_to_Update</th>\n",
       "    </tr>\n",
       "  </thead>\n",
       "  <tbody>\n",
       "    <tr>\n",
       "      <th>0</th>\n",
       "      <td>Medium</td>\n",
       "      <td>Resolved</td>\n",
       "      <td>Other</td>\n",
       "      <td>0</td>\n",
       "    </tr>\n",
       "    <tr>\n",
       "      <th>1</th>\n",
       "      <td>High</td>\n",
       "      <td>Resolved</td>\n",
       "      <td>Other</td>\n",
       "      <td>2</td>\n",
       "    </tr>\n",
       "    <tr>\n",
       "      <th>2</th>\n",
       "      <td>High</td>\n",
       "      <td>Resolved</td>\n",
       "      <td>Fixed</td>\n",
       "      <td>0</td>\n",
       "    </tr>\n",
       "    <tr>\n",
       "      <th>3</th>\n",
       "      <td>low</td>\n",
       "      <td>Resolved</td>\n",
       "      <td>Other</td>\n",
       "      <td>15</td>\n",
       "    </tr>\n",
       "    <tr>\n",
       "      <th>4</th>\n",
       "      <td>Medium</td>\n",
       "      <td>Resolved</td>\n",
       "      <td>Other</td>\n",
       "      <td>0</td>\n",
       "    </tr>\n",
       "    <tr>\n",
       "      <th>5</th>\n",
       "      <td>Medium</td>\n",
       "      <td>Resolved</td>\n",
       "      <td>Other</td>\n",
       "      <td>0</td>\n",
       "    </tr>\n",
       "    <tr>\n",
       "      <th>6</th>\n",
       "      <td>Medium</td>\n",
       "      <td>Resolved</td>\n",
       "      <td>Other</td>\n",
       "      <td>1</td>\n",
       "    </tr>\n",
       "    <tr>\n",
       "      <th>7</th>\n",
       "      <td>low</td>\n",
       "      <td>Resolved</td>\n",
       "      <td>Other</td>\n",
       "      <td>2</td>\n",
       "    </tr>\n",
       "    <tr>\n",
       "      <th>8</th>\n",
       "      <td>Medium</td>\n",
       "      <td>Resolved</td>\n",
       "      <td>Other</td>\n",
       "      <td>0</td>\n",
       "    </tr>\n",
       "    <tr>\n",
       "      <th>9</th>\n",
       "      <td>Medium</td>\n",
       "      <td>Resolved</td>\n",
       "      <td>Other</td>\n",
       "      <td>0</td>\n",
       "    </tr>\n",
       "  </tbody>\n",
       "</table>\n",
       "</div>"
      ],
      "text/plain": [
       "  Priority    Status Resolution  Time_to_Update\n",
       "0   Medium  Resolved      Other               0\n",
       "1     High  Resolved      Other               2\n",
       "2     High  Resolved      Fixed               0\n",
       "3      low  Resolved      Other              15\n",
       "4   Medium  Resolved      Other               0\n",
       "5   Medium  Resolved      Other               0\n",
       "6   Medium  Resolved      Other               1\n",
       "7      low  Resolved      Other               2\n",
       "8   Medium  Resolved      Other               0\n",
       "9   Medium  Resolved      Other               0"
      ]
     },
     "execution_count": 73,
     "metadata": {},
     "output_type": "execute_result"
    }
   ],
   "source": [
    "code_bugs_df.head(10)"
   ]
  },
  {
   "cell_type": "code",
   "execution_count": 74,
   "id": "4ccbe350",
   "metadata": {},
   "outputs": [],
   "source": [
    "from sklearn.preprocessing import LabelEncoder\n",
    "\n",
    "le = LabelEncoder()\n",
    "code_bugs_df['Priority'] = le.fit_transform(code_bugs_df['Priority'])\n",
    "code_bugs_df['Status'] = le.fit_transform(code_bugs_df['Status'])\n",
    "code_bugs_df['Resolution'] = le.fit_transform(code_bugs_df['Resolution'])  # Target"
   ]
  },
  {
   "cell_type": "code",
   "execution_count": 75,
   "id": "b98428b0",
   "metadata": {},
   "outputs": [
    {
     "data": {
      "text/html": [
       "<div>\n",
       "<style scoped>\n",
       "    .dataframe tbody tr th:only-of-type {\n",
       "        vertical-align: middle;\n",
       "    }\n",
       "\n",
       "    .dataframe tbody tr th {\n",
       "        vertical-align: top;\n",
       "    }\n",
       "\n",
       "    .dataframe thead th {\n",
       "        text-align: right;\n",
       "    }\n",
       "</style>\n",
       "<table border=\"1\" class=\"dataframe\">\n",
       "  <thead>\n",
       "    <tr style=\"text-align: right;\">\n",
       "      <th></th>\n",
       "      <th>Priority</th>\n",
       "      <th>Status</th>\n",
       "      <th>Resolution</th>\n",
       "      <th>Time_to_Update</th>\n",
       "    </tr>\n",
       "  </thead>\n",
       "  <tbody>\n",
       "    <tr>\n",
       "      <th>0</th>\n",
       "      <td>1</td>\n",
       "      <td>0</td>\n",
       "      <td>1</td>\n",
       "      <td>0</td>\n",
       "    </tr>\n",
       "    <tr>\n",
       "      <th>1</th>\n",
       "      <td>0</td>\n",
       "      <td>0</td>\n",
       "      <td>1</td>\n",
       "      <td>2</td>\n",
       "    </tr>\n",
       "    <tr>\n",
       "      <th>2</th>\n",
       "      <td>0</td>\n",
       "      <td>0</td>\n",
       "      <td>0</td>\n",
       "      <td>0</td>\n",
       "    </tr>\n",
       "    <tr>\n",
       "      <th>3</th>\n",
       "      <td>2</td>\n",
       "      <td>0</td>\n",
       "      <td>1</td>\n",
       "      <td>15</td>\n",
       "    </tr>\n",
       "    <tr>\n",
       "      <th>4</th>\n",
       "      <td>1</td>\n",
       "      <td>0</td>\n",
       "      <td>1</td>\n",
       "      <td>0</td>\n",
       "    </tr>\n",
       "    <tr>\n",
       "      <th>5</th>\n",
       "      <td>1</td>\n",
       "      <td>0</td>\n",
       "      <td>1</td>\n",
       "      <td>0</td>\n",
       "    </tr>\n",
       "    <tr>\n",
       "      <th>6</th>\n",
       "      <td>1</td>\n",
       "      <td>0</td>\n",
       "      <td>1</td>\n",
       "      <td>1</td>\n",
       "    </tr>\n",
       "    <tr>\n",
       "      <th>7</th>\n",
       "      <td>2</td>\n",
       "      <td>0</td>\n",
       "      <td>1</td>\n",
       "      <td>2</td>\n",
       "    </tr>\n",
       "    <tr>\n",
       "      <th>8</th>\n",
       "      <td>1</td>\n",
       "      <td>0</td>\n",
       "      <td>1</td>\n",
       "      <td>0</td>\n",
       "    </tr>\n",
       "    <tr>\n",
       "      <th>9</th>\n",
       "      <td>1</td>\n",
       "      <td>0</td>\n",
       "      <td>1</td>\n",
       "      <td>0</td>\n",
       "    </tr>\n",
       "  </tbody>\n",
       "</table>\n",
       "</div>"
      ],
      "text/plain": [
       "   Priority  Status  Resolution  Time_to_Update\n",
       "0         1       0           1               0\n",
       "1         0       0           1               2\n",
       "2         0       0           0               0\n",
       "3         2       0           1              15\n",
       "4         1       0           1               0\n",
       "5         1       0           1               0\n",
       "6         1       0           1               1\n",
       "7         2       0           1               2\n",
       "8         1       0           1               0\n",
       "9         1       0           1               0"
      ]
     },
     "execution_count": 75,
     "metadata": {},
     "output_type": "execute_result"
    }
   ],
   "source": [
    "code_bugs_df.head(10)"
   ]
  },
  {
   "cell_type": "code",
   "execution_count": 76,
   "id": "565355b8",
   "metadata": {},
   "outputs": [
    {
     "name": "stdout",
     "output_type": "stream",
     "text": [
      "              precision    recall  f1-score   support\n",
      "\n",
      "           0       0.91      0.57      0.70       119\n",
      "           1       0.11      0.46      0.17        13\n",
      "\n",
      "    accuracy                           0.56       132\n",
      "   macro avg       0.51      0.52      0.44       132\n",
      "weighted avg       0.83      0.56      0.65       132\n",
      "\n",
      "[[68 51]\n",
      " [ 7  6]]\n",
      "ROC AUC Score: 0.5164835164835165\n"
     ]
    }
   ],
   "source": [
    "from sklearn.ensemble import RandomForestClassifier\n",
    "from sklearn.model_selection import train_test_split\n",
    "from sklearn.metrics import classification_report, confusion_matrix\n",
    "from sklearn.metrics import roc_auc_score\n",
    "X = code_bugs_df.drop(columns=['Resolution'])\n",
    "y = code_bugs_df['Resolution']\n",
    "X_train, X_test, y_train, y_test = train_test_split(X, y, test_size=0.2,stratify=y, random_state=42)\n",
    "rf = RandomForestClassifier(n_estimators=100, random_state=42, class_weight='balanced')\n",
    "rf.fit(X_train, y_train)\n",
    "y_pred = rf.predict(X_test)\n",
    "print(classification_report(y_test, y_pred))\n",
    "print(confusion_matrix(y_test, y_pred))\n",
    "print(\"ROC AUC Score:\", roc_auc_score(y_test, y_pred))\n"
   ]
  },
  {
   "cell_type": "code",
   "execution_count": 77,
   "id": "5e4cce50",
   "metadata": {},
   "outputs": [],
   "source": [
    "code_bugs_df_encoded = pd.get_dummies(code_bugs_df, columns=['Priority', 'Status'], drop_first=True)\n"
   ]
  },
  {
   "cell_type": "code",
   "execution_count": 78,
   "id": "3e0e4bf6",
   "metadata": {},
   "outputs": [
    {
     "name": "stdout",
     "output_type": "stream",
     "text": [
      "              precision    recall  f1-score   support\n",
      "\n",
      "           0       0.92      0.86      0.89       119\n",
      "           1       0.19      0.31      0.24        13\n",
      "\n",
      "    accuracy                           0.80       132\n",
      "   macro avg       0.55      0.58      0.56       132\n",
      "weighted avg       0.85      0.80      0.82       132\n",
      "\n",
      "[[102  17]\n",
      " [  9   4]]\n",
      "Predicted Probabilities:\n",
      " 0.48150251247674375\n",
      "ROC AUC Score: 0.54169360051713\n"
     ]
    }
   ],
   "source": [
    "from sklearn.model_selection import train_test_split\n",
    "from sklearn.linear_model import LogisticRegression\n",
    "\n",
    "X = code_bugs_df_encoded.drop(columns=['Resolution'])\n",
    "y = code_bugs_df_encoded['Resolution']\n",
    "X_train, X_test, y_train, y_test = train_test_split(X, y, test_size=0.2, stratify=y, random_state=42)\n",
    "log_reg = LogisticRegression(max_iter=1000, class_weight='balanced')\n",
    "log_reg.fit(X_train, y_train)\n",
    "y_pred = log_reg.predict(X_test)\n",
    "y_pred_proba = log_reg.predict_proba(X_test)[:, 1]  # Get probabilities for the positive class\n",
    "print(classification_report(y_test, y_pred))\n",
    "print(confusion_matrix(y_test, y_pred))\n",
    "print(\"Predicted Probabilities:\\n\", y_pred_proba[0])\n",
    "print(\"ROC AUC Score:\", roc_auc_score(y_test, y_pred_proba))"
   ]
  },
  {
   "cell_type": "code",
   "execution_count": 91,
   "id": "aa41497e",
   "metadata": {},
   "outputs": [
    {
     "name": "stdout",
     "output_type": "stream",
     "text": [
      "              precision    recall  f1-score   support\n",
      "\n",
      "           0       0.90      1.00      0.95       178\n",
      "           1       0.00      0.00      0.00        20\n",
      "\n",
      "    accuracy                           0.90       198\n",
      "   macro avg       0.45      0.50      0.47       198\n",
      "weighted avg       0.81      0.90      0.85       198\n",
      "\n",
      "[[178   0]\n",
      " [ 20   0]]\n",
      "ROC AUC Score: 0.5\n"
     ]
    },
    {
     "name": "stderr",
     "output_type": "stream",
     "text": [
      "c:\\Users\\LENOVE\\ML_IntelligentSystems\\.venv\\Lib\\site-packages\\sklearn\\metrics\\_classification.py:1565: UndefinedMetricWarning: Precision is ill-defined and being set to 0.0 in labels with no predicted samples. Use `zero_division` parameter to control this behavior.\n",
      "  _warn_prf(average, modifier, f\"{metric.capitalize()} is\", len(result))\n",
      "c:\\Users\\LENOVE\\ML_IntelligentSystems\\.venv\\Lib\\site-packages\\sklearn\\metrics\\_classification.py:1565: UndefinedMetricWarning: Precision is ill-defined and being set to 0.0 in labels with no predicted samples. Use `zero_division` parameter to control this behavior.\n",
      "  _warn_prf(average, modifier, f\"{metric.capitalize()} is\", len(result))\n",
      "c:\\Users\\LENOVE\\ML_IntelligentSystems\\.venv\\Lib\\site-packages\\sklearn\\metrics\\_classification.py:1565: UndefinedMetricWarning: Precision is ill-defined and being set to 0.0 in labels with no predicted samples. Use `zero_division` parameter to control this behavior.\n",
      "  _warn_prf(average, modifier, f\"{metric.capitalize()} is\", len(result))\n"
     ]
    }
   ],
   "source": [
    "from sklearn.model_selection import train_test_split\n",
    "from sklearn.neighbors import KNeighborsClassifier\n",
    "X = code_bugs_df_encoded.drop(columns=['Resolution'])\n",
    "y = code_bugs_df_encoded['Resolution']\n",
    "X_train, X_test, y_train, y_test = train_test_split(X, y, test_size=0.3, stratify=y, random_state=42)\n",
    "knn = KNeighborsClassifier(n_neighbors=5)\n",
    "knn.fit(X_train, y_train)\n",
    "y_pred = knn.predict(X_test)\n",
    "print(classification_report(y_test, y_pred))\n",
    "print(confusion_matrix(y_test, y_pred))\n",
    "print(\"ROC AUC Score:\", roc_auc_score(y_test, y_pred))"
   ]
  },
  {
   "cell_type": "code",
   "execution_count": 80,
   "id": "bf96ce35",
   "metadata": {},
   "outputs": [
    {
     "name": "stdout",
     "output_type": "stream",
     "text": [
      "              precision    recall  f1-score   support\n",
      "\n",
      "           0       0.91      0.97      0.94       119\n",
      "           1       0.25      0.08      0.12        13\n",
      "\n",
      "    accuracy                           0.89       132\n",
      "   macro avg       0.58      0.53      0.53       132\n",
      "weighted avg       0.84      0.89      0.86       132\n",
      "\n",
      "[[116   3]\n",
      " [ 12   1]]\n",
      "ROC AUC Score: 0.5258564964447316\n"
     ]
    },
    {
     "name": "stderr",
     "output_type": "stream",
     "text": [
      "c:\\Users\\LENOVE\\ML_IntelligentSystems\\.venv\\Lib\\site-packages\\xgboost\\training.py:183: UserWarning: [12:17:54] WARNING: C:\\actions-runner\\_work\\xgboost\\xgboost\\src\\learner.cc:738: \n",
      "Parameters: { \"use_label_encoder\" } are not used.\n",
      "\n",
      "  bst.update(dtrain, iteration=i, fobj=obj)\n"
     ]
    }
   ],
   "source": [
    "from xgboost import XGBClassifier\n",
    "X = code_bugs_df_encoded.drop(columns=['Resolution'])\n",
    "y = code_bugs_df_encoded['Resolution']\n",
    "X_train, X_test, y_train, y_test = train_test_split(X, y, test_size=0.2, stratify=y, random_state=42)\n",
    "xgb = XGBClassifier(use_label_encoder=False, eval_metric='mlogloss',scale_pos_weight=1)\n",
    "xgb.fit(X_train, y_train)\n",
    "y_pred = xgb.predict(X_test)    \n",
    "print(classification_report(y_test, y_pred))\n",
    "print(confusion_matrix(y_test, y_pred))\n",
    "print(\"ROC AUC Score:\", roc_auc_score(y_test, y_pred))\n",
    "\n"
   ]
  },
  {
   "cell_type": "code",
   "execution_count": 81,
   "id": "6069c6b3",
   "metadata": {},
   "outputs": [
    {
     "name": "stdout",
     "output_type": "stream",
     "text": [
      "              precision    recall  f1-score   support\n",
      "\n",
      "           0       0.92      0.87      0.89       119\n",
      "           1       0.20      0.31      0.24        13\n",
      "\n",
      "    accuracy                           0.81       132\n",
      "   macro avg       0.56      0.59      0.57       132\n",
      "weighted avg       0.85      0.81      0.83       132\n",
      "\n",
      "[[103  16]\n",
      " [  9   4]]\n",
      "ROC AUC Score: 0.5866192630898514\n"
     ]
    }
   ],
   "source": [
    "from sklearn.preprocessing import StandardScaler\n",
    "from sklearn.metrics import roc_auc_score\n",
    "scaler = StandardScaler()\n",
    "X_train_scaled = scaler.fit_transform(X_train)\n",
    "X_test_scaled = scaler.transform(X_test)\n",
    "log_reg = LogisticRegression(max_iter=1000, class_weight='balanced')\n",
    "log_reg.fit(X_train_scaled, y_train)\n",
    "y_pred = log_reg.predict(X_test_scaled)\n",
    "print(classification_report(y_test, y_pred))\n",
    "print(confusion_matrix(y_test, y_pred))\n",
    "print(\"ROC AUC Score:\", roc_auc_score(y_test, y_pred))"
   ]
  },
  {
   "cell_type": "code",
   "execution_count": 82,
   "id": "d172c6a1",
   "metadata": {},
   "outputs": [
    {
     "name": "stdout",
     "output_type": "stream",
     "text": [
      "Fitting 3 folds for each of 27 candidates, totalling 81 fits\n",
      "Best Parameters: {'learning_rate': 0.01, 'max_depth': 3, 'n_estimators': 50}\n"
     ]
    },
    {
     "name": "stderr",
     "output_type": "stream",
     "text": [
      "c:\\Users\\LENOVE\\ML_IntelligentSystems\\.venv\\Lib\\site-packages\\xgboost\\training.py:183: UserWarning: [12:18:01] WARNING: C:\\actions-runner\\_work\\xgboost\\xgboost\\src\\learner.cc:738: \n",
      "Parameters: { \"use_label_encoder\" } are not used.\n",
      "\n",
      "  bst.update(dtrain, iteration=i, fobj=obj)\n"
     ]
    }
   ],
   "source": [
    "from sklearn.model_selection import GridSearchCV\n",
    "param_grid = {\n",
    "    'n_estimators': [50, 100, 200],\n",
    "    'max_depth': [3, 5, 7],\n",
    "    'learning_rate': [0.01, 0.1, 0.2]\n",
    "}\n",
    "grid_search = GridSearchCV(estimator=xgb, param_grid=param_grid, scoring='accuracy', cv=3, verbose=1, n_jobs=-1)\n",
    "grid_search.fit(X_train_scaled, y_train)\n",
    "print(\"Best Parameters:\", grid_search.best_params_)\n",
    "best_param = grid_search.best_estimator_"
   ]
  },
  {
   "cell_type": "code",
   "execution_count": 83,
   "id": "d9b732a9",
   "metadata": {},
   "outputs": [
    {
     "name": "stdout",
     "output_type": "stream",
     "text": [
      "              precision    recall  f1-score   support\n",
      "\n",
      "           0       0.90      1.00      0.95       119\n",
      "           1       0.00      0.00      0.00        13\n",
      "\n",
      "    accuracy                           0.90       132\n",
      "   macro avg       0.45      0.50      0.47       132\n",
      "weighted avg       0.81      0.90      0.85       132\n",
      "\n",
      "[[119   0]\n",
      " [ 13   0]]\n",
      "ROC AUC Score: 0.5\n"
     ]
    },
    {
     "name": "stderr",
     "output_type": "stream",
     "text": [
      "c:\\Users\\LENOVE\\ML_IntelligentSystems\\.venv\\Lib\\site-packages\\sklearn\\metrics\\_classification.py:1565: UndefinedMetricWarning: Precision is ill-defined and being set to 0.0 in labels with no predicted samples. Use `zero_division` parameter to control this behavior.\n",
      "  _warn_prf(average, modifier, f\"{metric.capitalize()} is\", len(result))\n",
      "c:\\Users\\LENOVE\\ML_IntelligentSystems\\.venv\\Lib\\site-packages\\sklearn\\metrics\\_classification.py:1565: UndefinedMetricWarning: Precision is ill-defined and being set to 0.0 in labels with no predicted samples. Use `zero_division` parameter to control this behavior.\n",
      "  _warn_prf(average, modifier, f\"{metric.capitalize()} is\", len(result))\n",
      "c:\\Users\\LENOVE\\ML_IntelligentSystems\\.venv\\Lib\\site-packages\\sklearn\\metrics\\_classification.py:1565: UndefinedMetricWarning: Precision is ill-defined and being set to 0.0 in labels with no predicted samples. Use `zero_division` parameter to control this behavior.\n",
      "  _warn_prf(average, modifier, f\"{metric.capitalize()} is\", len(result))\n"
     ]
    }
   ],
   "source": [
    "from xgboost import XGBClassifier\n",
    "best_param.fit(X_train_scaled, y_train)\n",
    "y_pred = best_param.predict(X_test_scaled)\n",
    "print(classification_report(y_test, y_pred))\n",
    "print(confusion_matrix(y_test, y_pred))\n",
    "print(\"ROC AUC Score:\", roc_auc_score(y_test, y_pred))"
   ]
  },
  {
   "cell_type": "code",
   "execution_count": 84,
   "id": "6b87f451",
   "metadata": {},
   "outputs": [
    {
     "name": "stdout",
     "output_type": "stream",
     "text": [
      "              precision    recall  f1-score   support\n",
      "\n",
      "           0       0.92      0.82      0.87       119\n",
      "           1       0.19      0.38      0.25        13\n",
      "\n",
      "    accuracy                           0.77       132\n",
      "   macro avg       0.55      0.60      0.56       132\n",
      "weighted avg       0.85      0.77      0.81       132\n",
      "\n",
      "[[97 22]\n",
      " [ 8  5]]\n",
      "ROC AUC Score after SMOTE: 0.5998707175177763\n"
     ]
    }
   ],
   "source": [
    "from imblearn.over_sampling import SMOTE\n",
    "smote = SMOTE(random_state=42)\n",
    "X_resampled, y_resampled = smote.fit_resample(X_train_scaled, y_train)\n",
    "log_reg.fit(X_resampled, y_resampled)\n",
    "y_pred = log_reg.predict(X_test_scaled)\n",
    "print(classification_report(y_test, y_pred))\n",
    "print(confusion_matrix(y_test, y_pred))\n",
    "print(\"ROC AUC Score after SMOTE:\", roc_auc_score(y_test, y_pred))"
   ]
  },
  {
   "cell_type": "code",
   "execution_count": 85,
   "id": "cc00b8b0",
   "metadata": {},
   "outputs": [
    {
     "name": "stdout",
     "output_type": "stream",
     "text": [
      "              precision    recall  f1-score   support\n",
      "\n",
      "           0       0.91      0.63      0.75       119\n",
      "           1       0.12      0.46      0.19        13\n",
      "\n",
      "    accuracy                           0.61       132\n",
      "   macro avg       0.52      0.55      0.47       132\n",
      "weighted avg       0.84      0.61      0.69       132\n",
      "\n",
      "[[75 44]\n",
      " [ 7  6]]\n",
      "ROC AUC Score after SMOTE: 0.5458952811893989\n"
     ]
    }
   ],
   "source": [
    "smote = SMOTE(random_state=42)\n",
    "X_resampled, y_resampled = smote.fit_resample(X_train_scaled, y_train)\n",
    "rf.fit(X_resampled, y_resampled)\n",
    "y_pred = rf.predict(X_test_scaled)\n",
    "print(classification_report(y_test, y_pred))\n",
    "print(confusion_matrix(y_test, y_pred))\n",
    "print(\"ROC AUC Score after SMOTE:\", roc_auc_score(y_test, y_pred))"
   ]
  },
  {
   "cell_type": "code",
   "execution_count": 86,
   "id": "91995ed7",
   "metadata": {},
   "outputs": [
    {
     "name": "stdout",
     "output_type": "stream",
     "text": [
      "              precision    recall  f1-score   support\n",
      "\n",
      "           0       0.91      0.93      0.92       119\n",
      "           1       0.20      0.15      0.17        13\n",
      "\n",
      "    accuracy                           0.86       132\n",
      "   macro avg       0.55      0.54      0.55       132\n",
      "weighted avg       0.84      0.86      0.85       132\n",
      "\n",
      "[[111   8]\n",
      " [ 11   2]]\n",
      "ROC AUC Score after SMOTE: 0.5433096315449256\n"
     ]
    }
   ],
   "source": [
    "smote = SMOTE(random_state=42)\n",
    "X_resampled, y_resampled = smote.fit_resample(X_train_scaled, y_train)\n",
    "knn.fit(X_resampled, y_resampled)\n",
    "y_pred = knn.predict(X_test_scaled)\n",
    "print(classification_report(y_test, y_pred))\n",
    "print(confusion_matrix(y_test, y_pred))\n",
    "print(\"ROC AUC Score after SMOTE:\", roc_auc_score(y_test, y_pred))"
   ]
  },
  {
   "cell_type": "code",
   "execution_count": null,
   "id": "12f0f7a7",
   "metadata": {},
   "outputs": [],
   "source": []
  }
 ],
 "metadata": {
  "kernelspec": {
   "display_name": ".venv",
   "language": "python",
   "name": "python3"
  },
  "language_info": {
   "codemirror_mode": {
    "name": "ipython",
    "version": 3
   },
   "file_extension": ".py",
   "mimetype": "text/x-python",
   "name": "python",
   "nbconvert_exporter": "python",
   "pygments_lexer": "ipython3",
   "version": "3.13.1"
  }
 },
 "nbformat": 4,
 "nbformat_minor": 5
}
